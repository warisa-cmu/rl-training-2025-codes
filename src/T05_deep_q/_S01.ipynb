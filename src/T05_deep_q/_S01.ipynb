{
 "cells": [
  {
   "cell_type": "markdown",
   "metadata": {},
   "source": [
    "# Deep Q-Network implementation (PyTorch).\n",
    "\n",
    "In this notebook, we will implement DQN with **experience replay** and **target networks**.\n",
    "\n",
    "$$ \n",
    "\\DeclareMathOperator*{\\max}{max}$$\n",
    "\n",
    "Q Learning control is carried out by sampling step by step and updating Q values at each step. We use ε-greedy policy to explore and generate samples. However, the policy learnt is a deterministic greedy policy with no exploration. We can carryout updates online i.e. we take a step and use `(current state, action, reward and next_state)` tuple to update. \n",
    "\n",
    "In case of function approximation using neural network, the input to the network is the state and output is the q(s,a) for all the actions in the state `s`. It is denoted as $ \\hat{q}(s_t,a; w_{t}) $, where $w_{t}$ is the weigths of the neural network which we are trying to learn as part of DQN learning. \n",
    "\n",
    "We use two networks, one target network to get the max q-value of next state denoted by $ \\max_a \\hat {q}(s_{t+1},a; w^{-}_{t}) $ and the primary network with weights $w_{t}$ which we are updated based on back propagation of the TD error through the network.\n",
    "\n",
    "The Update equation is given below. This is the online version:\n",
    "$$ w_{t+1} \\leftarrow w_t + \\alpha [ R_{t+1} + \\gamma . \\max_{a} \\hat{q}(S_{t+1},a,w^{-}_{t}) – \\hat{q}(S_t,A_t,w_t)] \\nabla \\hat{q}(S_t,A_t,w_t)$$\n",
    "\n",
    "Online update with neural network with millions of weights does not work well. Accordingly, We use experience replay (aka Replay Buffer).  We use a behavior policy to explore the environment and store the samples `(s, a, r, s', done)` in a buffer. The samples are generated using an exploratory behavior policy while we improve a deterministic target policy using q-values. \n",
    "\n",
    "Therefore, we can always use older samples from behavior policy and apply them again and again. We can keep the buffer size fixed to some pre-determined size and keep deleting the older samples as we collect new ones. This process makes learning sample efficient by reusing a sample multiple times and also removing temporal dependence of the samples we would otherwise see while following a trajectory.\n",
    "\n",
    "The update equation with batch update with minor modifications is given below. We collect samples of transitions (current state, action, reward, next state) in a buffer. Where each sample is denoted as a tuple: \n",
    "\n",
    "$$ (s_{i}, a_{i}, r_{i}, s^{'}_{i}, done_{i})$$\n",
    "\n",
    "Subscript (i) denotes ith sample. We take N samples from experience replay selecting randomly and update the weights. Subscript (t) denotes the index of weight updates. If the current state is done, as denoted by `done` flag, the target is just the reward as terminal states have zero value. The final update equation is as given below:\n",
    "\n",
    "$$w_{t+1} \\leftarrow w_t + \\alpha \\frac{1}{N} \\sum_{i=1}^{N} \\left[ r_i + \\left( (1-done_i) . \\gamma .  \\max_{a^{'}} \\hat{q}(s_{i}^{'},a^{'};w^{-}_{t}) \\right) – \\hat{q}(s_i,a_i;w_t) \\right] \\nabla \\hat{q}(s_i,a_i;w_t)$$\n"
   ]
  },
  {
   "cell_type": "code",
   "execution_count": null,
   "metadata": {},
   "outputs": [],
   "source": [
    "import random\n",
    "import numpy as np\n",
    "import torch\n",
    "import torch.nn as nn\n",
    "import gym\n",
    "import numpy as np\n",
    "import matplotlib.pyplot as plt\n",
    "from scipy.signal import convolve, gaussian\n",
    "\n",
    "import os\n",
    "import io\n",
    "import base64\n",
    "import time\n",
    "import glob\n",
    "from IPython.display import HTML\n",
    "\n",
    "%matplotlib inline\n"
   ]
  },
  {
   "cell_type": "markdown",
   "metadata": {},
   "source": [
    "### Environment - CartPole \n",
    "\n",
    "We can use the setup here to run on any environment which has state as a single vector and actions are discrete. We will build it on Cart Pole and they try to run this on many other environments like Atari games and others.\n"
   ]
  },
  {
   "cell_type": "code",
   "execution_count": 2,
   "metadata": {},
   "outputs": [],
   "source": [
    "def make_env(env_name, seed=None):\n",
    "    # remove time limit wrapper from environment\n",
    "    env = gym.make(env_name).unwrapped\n",
    "    if seed is not None:\n",
    "        env.seed(seed)\n",
    "    return env"
   ]
  },
  {
   "cell_type": "code",
   "execution_count": 3,
   "metadata": {},
   "outputs": [
    {
     "data": {
      "image/png": "[encoded data removed]",
      "text/plain": [
       "<Figure size 432x288 with 1 Axes>"
      ]
     },
     "metadata": {
      "needs_background": "light"
     },
     "output_type": "display_data"
    }
   ],
   "source": [
    "env_name = 'CartPole-v1'\n",
    "\n",
    "env = make_env(env_name)\n",
    "env.reset()\n",
    "plt.imshow(env.render(\"rgb_array\"))\n",
    "state_shape, n_actions = env.observation_space.shape, env.action_space.n"
   ]
  },
  {
   "cell_type": "markdown",
   "metadata": {},
   "source": [
    "### Building a network using pytorch"
   ]
  },
  {
   "cell_type": "markdown",
   "metadata": {},
   "source": [
    "Let us build a DQN agent using a simple network. We now need to build a neural network that can map states/observations to state q-values. The observation space and action space is as given below for CartPole\n",
    "\n",
    "    Observation:\n",
    "        Type: Box(4)\n",
    "        Num     Observation               Min                     Max\n",
    "        0       Cart Position             -4.8                    4.8\n",
    "        1       Cart Velocity             -Inf                    Inf\n",
    "        2       Pole Angle                -0.418 rad (-24 deg)    0.418 rad (24 deg)\n",
    "        3       Pole Angular Velocity     -Inf                    Inf\n",
    "    Actions:\n",
    "        Type: Discrete(2)\n",
    "        Num   Action\n",
    "        0     Push cart to the left\n",
    "        1     Push cart to the right\n",
    "        \n",
    "\n",
    "The model will be a simple one with 2 hidden layers with Relu activation and final layer being logits with dimension equal to number of actions. "
   ]
  },
  {
   "cell_type": "code",
   "execution_count": 4,
   "metadata": {},
   "outputs": [
    {
     "data": {
      "text/plain": [
       "device(type='cpu')"
      ]
     },
     "execution_count": 4,
     "metadata": {},
     "output_type": "execute_result"
    }
   ],
   "source": [
    "device = torch.device('cuda' if torch.cuda.is_available() else 'cpu')\n",
    "device"
   ]
  },
  {
   "cell_type": "code",
   "execution_count": 5,
   "metadata": {},
   "outputs": [],
   "source": [
    "class DQNAgent(nn.Module):\n",
    "    def __init__(self, state_shape, n_actions, epsilon=0):\n",
    "\n",
    "        super().__init__()\n",
    "        self.epsilon = epsilon\n",
    "        self.n_actions = n_actions\n",
    "        self.state_shape = state_shape\n",
    "        \n",
    "        state_dim = state_shape[0]\n",
    "        # a simple NN with state_dim as input vector (inout is state s)\n",
    "        # and self.n_actions as output vector of logits of q(s, a)\n",
    "        self.network = nn.Sequential()\n",
    "        self.network.add_module('layer1', nn.Linear(state_dim, 192))\n",
    "        self.network.add_module('relu1', nn.ReLU())\n",
    "        self.network.add_module('layer2', nn.Linear(192, 256))\n",
    "        self.network.add_module('relu2', nn.ReLU())\n",
    "        self.network.add_module('layer3', nn.Linear(256, 64))\n",
    "        self.network.add_module('relu3', nn.ReLU())\n",
    "        self.network.add_module('layer4', nn.Linear(64, n_actions))\n",
    "        # \n",
    "        self.parameters = self.network.parameters\n",
    "        \n",
    "    def forward(self, state_t):\n",
    "        # pass the state at time t through the newrok to get Q(s,a)\n",
    "        qvalues = self.network(state_t)\n",
    "        return qvalues\n",
    "\n",
    "    def get_qvalues(self, states):\n",
    "        # input is an array of states in numpy and outout is Qvals as numpy array\n",
    "        states = torch.tensor(states, device=device, dtype=torch.float32)\n",
    "        qvalues = self.forward(states)\n",
    "        return qvalues.data.cpu().numpy()\n",
    "\n",
    "    def sample_actions(self, qvalues):\n",
    "        # sample actions from a batch of q_values using epsilon greedy policy\n",
    "        epsilon = self.epsilon\n",
    "        batch_size, n_actions = qvalues.shape\n",
    "        random_actions = np.random.choice(n_actions, size=batch_size)\n",
    "        best_actions = qvalues.argmax(axis=-1)\n",
    "        should_explore = np.random.choice(\n",
    "            [0, 1], batch_size, p=[1-epsilon, epsilon])\n",
    "        return np.where(should_explore, random_actions, best_actions)"
   ]
  },
  {
   "cell_type": "code",
   "execution_count": 6,
   "metadata": {},
   "outputs": [],
   "source": [
    "agent = DQNAgent(state_shape, n_actions, epsilon=0.5).to(device)"
   ]
  },
  {
   "cell_type": "code",
   "execution_count": 7,
   "metadata": {},
   "outputs": [],
   "source": [
    "def evaluate(env, agent, n_games=1, greedy=False, t_max=10000):\n",
    "    rewards = []\n",
    "    for _ in range(n_games):\n",
    "        s = env.reset()\n",
    "        reward = 0\n",
    "        for _ in range(t_max):\n",
    "            qvalues = agent.get_qvalues([s])\n",
    "            action = qvalues.argmax(axis=-1)[0] if greedy else agent.sample_actions(qvalues)[0]\n",
    "            s, r, done, _ = env.step(action)\n",
    "            reward += r\n",
    "            if done:\n",
    "                break\n",
    "\n",
    "        rewards.append(reward)\n",
    "    return np.mean(rewards)"
   ]
  },
  {
   "cell_type": "code",
   "execution_count": 8,
   "metadata": {},
   "outputs": [
    {
     "name": "stdout",
     "output_type": "stream",
     "text": [
      "18.0\n"
     ]
    }
   ],
   "source": [
    "print(evaluate(env, agent, n_games=1))\n",
    "env.close()"
   ]
  },
  {
   "cell_type": "markdown",
   "metadata": {},
   "source": [
    "### Experience replay\n",
    "\n",
    "We will use the replay buffer we saw in chapter 4 listings. Replay buffer is very important in DQN to break the correlation between samples. We use a behavior policy ($\\epsilon-greedy$) to sample from the environment and store the transitions (s,a,r,s',done) into a buffer. These samples are used multiple times in a learning making the process sample efficient. \n",
    "\n",
    "The interface to ReplayBuffer is:\n",
    "* `exp_replay.add(state, action, reward, next_state, done)` - saves (s,a,r,s',done) tuple into the buffer\n",
    "* `exp_replay.sample(batch_size)` - returns states, actions, rewards, next_states and done_flags for `batch_size` random samples.\n",
    "* `len(exp_replay)` - returns number of elements stored in replay buffer.\n",
    "\n",
    "We have modified the implementation a bit to make it more efficient"
   ]
  },
  {
   "cell_type": "code",
   "execution_count": 9,
   "metadata": {},
   "outputs": [],
   "source": [
    "class ReplayBuffer:\n",
    "    def __init__(self, size):\n",
    "        self.size = size #max number of items in buffer\n",
    "        self.buffer =[] #array to holde buffer\n",
    "        self.next_id = 0\n",
    "    \n",
    "    def __len__(self):\n",
    "        return len(self.buffer)\n",
    "    \n",
    "    def add(self, state, action, reward, next_state, done):\n",
    "        item = (state, action, reward, next_state, done)\n",
    "        if len(self.buffer) < self.size:\n",
    "           self.buffer.append(item)\n",
    "        else:\n",
    "            self.buffer[self.next_id] = item\n",
    "        self.next_id = (self.next_id + 1) % self.size\n",
    "        \n",
    "    def sample(self, batch_size):\n",
    "        idxs = np.random.choice(len(self.buffer), batch_size)\n",
    "        samples = [self.buffer[i] for i in idxs]\n",
    "        states, actions, rewards, next_states, done_flags = list(zip(*samples))\n",
    "        return np.array(states), np.array(actions), np.array(rewards), np.array(next_states), np.array(done_flags)"
   ]
  },
  {
   "cell_type": "code",
   "execution_count": 10,
   "metadata": {},
   "outputs": [],
   "source": [
    "def play_and_record(start_state, agent, env, exp_replay, n_steps=1):\n",
    "\n",
    "    s = start_state\n",
    "    sum_rewards = 0\n",
    "\n",
    "    # Play the game for n_steps and record transitions in buffer\n",
    "    for _ in range(n_steps):\n",
    "        qvalues = agent.get_qvalues([s])\n",
    "        a = agent.sample_actions(qvalues)[0]        \n",
    "        next_s, r, done, _ = env.step(a)\n",
    "        sum_rewards += r\n",
    "        exp_replay.add(s, a, r, next_s, done)\n",
    "        if done:\n",
    "            s = env.reset()\n",
    "        else:\n",
    "            s = next_s\n",
    "        \n",
    "    return sum_rewards, s"
   ]
  },
  {
   "cell_type": "markdown",
   "metadata": {},
   "source": [
    "### Target network\n"
   ]
  },
  {
   "cell_type": "code",
   "execution_count": 11,
   "metadata": {},
   "outputs": [
    {
     "data": {
      "text/plain": [
       "<All keys matched successfully>"
      ]
     },
     "execution_count": 11,
     "metadata": {},
     "output_type": "execute_result"
    }
   ],
   "source": [
    "target_network = DQNAgent(agent.state_shape, agent.n_actions, epsilon=0.5).to(device)\n",
    "target_network.load_state_dict(agent.state_dict())"
   ]
  },
  {
   "cell_type": "markdown",
   "metadata": {},
   "source": [
    "### Learning with... Q-learning\n",
    "Here we write a function similar to tabular q-learning. We will calculate average TD error per batch using the equation: \n",
    "\n",
    "$$ L =  \\frac{1}{N} \\sum_{i=1}^{N} \\left[ r_i + \\left( (1-done_i) . \\gamma .  \\max_{a^{'}} \\hat{q}(s_{i}^{'},a^{'};w^{-}_{t}) \\right) – \\hat{q}(s_i,a_i;w_t) \\right]^2$$\n",
    "\n",
    "\n",
    "$$ \\nabla_w L =   - \\frac{1}{N} \\sum_{i=1}^{N} \\left[ r_i + \\left( (1-done_i) . \\gamma .  \\max_{a^{'}} \\hat{q}(s_{i}^{'},a^{'};w^{-}_{t}) \\right) – \\hat{q}(s_i,a_i;w_t) \\right] \\nabla \\hat{q}(s_i,a_i;w_t)$$\n",
    "\n",
    "\n",
    "$\\hat{q}(s',A;w^{-})$ is calculated using target network whose weights are held constant and refreshed periodically from the agent learning network. \n",
    "\n",
    "Target is given by following:\n",
    "* non terminal state: $r_i +  \\gamma .  \\max_{a^{'}} \\hat{q}(s_{i}^{'},a^{'};w^{-}_{t})$\n",
    "* terminal state: $ r_i $\n",
    "\n",
    "We then carryout back propagation through the agent network to update the weights using equation below:\n",
    "\n",
    "\n",
    "$$ \n",
    "\\DeclareMathOperator*{\\max}{max} w_{t+1} \\leftarrow w_t - \\alpha \\nabla_{w}L$$"
   ]
  },
  {
   "cell_type": "code",
   "execution_count": 12,
   "metadata": {},
   "outputs": [],
   "source": [
    "def compute_td_loss(agent, target_network, states, actions, rewards, next_states, done_flags,\n",
    "                    gamma=0.99, device=device):\n",
    "\n",
    "    # convert numpy array to torch tensors\n",
    "    states = torch.tensor(states, device=device, dtype=torch.float)\n",
    "    actions = torch.tensor(actions, device=device, dtype=torch.long)\n",
    "    rewards = torch.tensor(rewards, device=device, dtype=torch.float)\n",
    "    next_states = torch.tensor(next_states, device=device, dtype=torch.float)\n",
    "    done_flags = torch.tensor(done_flags.astype('float32'),device=device,dtype=torch.float)\n",
    "\n",
    "    # get q-values for all actions in current states\n",
    "    # use agent network\n",
    "    predicted_qvalues = agent(states)\n",
    "\n",
    "    # compute q-values for all actions in next states\n",
    "    # use target network\n",
    "    predicted_next_qvalues = target_network(next_states)\n",
    "    \n",
    "    # select q-values for chosen actions\n",
    "    predicted_qvalues_for_actions = predicted_qvalues[range(\n",
    "        len(actions)), actions]\n",
    "\n",
    "    # compute Qmax(next_states, actions) using predicted next q-values\n",
    "    next_state_values,_ = torch.max(predicted_next_qvalues, dim=1)\n",
    "\n",
    "    # compute \"target q-values\" \n",
    "    target_qvalues_for_actions = rewards + gamma * next_state_values * (1-done_flags)\n",
    "\n",
    "    # mean squared error loss to minimize\n",
    "    loss = torch.mean((predicted_qvalues_for_actions -\n",
    "                       target_qvalues_for_actions.detach()) ** 2)\n",
    "\n",
    "    return loss"
   ]
  },
  {
   "cell_type": "markdown",
   "metadata": {},
   "source": [
    "### Main loop\n",
    "\n",
    "We now carryout the training on DQN setup above."
   ]
  },
  {
   "cell_type": "code",
   "execution_count": 14,
   "metadata": {},
   "outputs": [],
   "source": [
    "from tqdm import trange\n",
    "from IPython.display import clear_output\n",
    "import matplotlib.pyplot as plt"
   ]
  },
  {
   "cell_type": "code",
   "execution_count": 15,
   "metadata": {},
   "outputs": [
    {
     "data": {
      "text/plain": [
       "<torch._C.Generator at 0x20812942190>"
      ]
     },
     "execution_count": 15,
     "metadata": {},
     "output_type": "execute_result"
    }
   ],
   "source": [
    "# set a seed\n",
    "seed = 13\n",
    "random.seed(seed)\n",
    "np.random.seed(seed)\n",
    "torch.manual_seed(seed)"
   ]
  },
  {
   "cell_type": "code",
   "execution_count": 16,
   "metadata": {},
   "outputs": [
    {
     "data": {
      "text/plain": [
       "<All keys matched successfully>"
      ]
     },
     "execution_count": 16,
     "metadata": {},
     "output_type": "execute_result"
    }
   ],
   "source": [
    "#setup env and agent and target networks\n",
    "env_name = 'CartPole-v1'\n",
    "env = make_env(env_name, seed)\n",
    "state_dim = env.observation_space.shape\n",
    "n_actions = env.action_space.n\n",
    "state = env.reset()\n",
    "\n",
    "agent = DQNAgent(state_dim, n_actions, epsilon=1).to(device)\n",
    "target_network = DQNAgent(state_dim, n_actions, epsilon=1).to(device)\n",
    "target_network.load_state_dict(agent.state_dict())"
   ]
  },
  {
   "cell_type": "code",
   "execution_count": 17,
   "metadata": {},
   "outputs": [
    {
     "name": "stdout",
     "output_type": "stream",
     "text": [
      "10000\n"
     ]
    }
   ],
   "source": [
    "# let us fill experience replay with some samples using full random policy\n",
    "exp_replay = ReplayBuffer(10**4)\n",
    "for i in range(100):\n",
    "    play_and_record(state, agent, env, exp_replay, n_steps=10**2)\n",
    "    if len(exp_replay) == 10**4:\n",
    "        break\n",
    "print(len(exp_replay))"
   ]
  },
  {
   "cell_type": "code",
   "execution_count": 18,
   "metadata": {},
   "outputs": [],
   "source": [
    "#setup some parameters for training\n",
    "timesteps_per_epoch = 1\n",
    "batch_size = 32\n",
    "total_steps = 5 * 10**4\n",
    "\n",
    "#init Optimizer\n",
    "opt = torch.optim.Adam(agent.parameters(), lr=1e-4)\n",
    "\n",
    "# set exploration epsilon \n",
    "start_epsilon = 1\n",
    "end_epsilon = 0.05\n",
    "eps_decay_final_step = 2 * 10**4\n",
    "\n",
    "# setup spme frequency for loggind and updating target network\n",
    "loss_freq = 20\n",
    "refresh_target_network_freq = 100\n",
    "eval_freq = 1000\n",
    "\n",
    "# to clip the gradients\n",
    "max_grad_norm = 5000"
   ]
  },
  {
   "cell_type": "code",
   "execution_count": 19,
   "metadata": {},
   "outputs": [],
   "source": [
    "mean_rw_history = []\n",
    "td_loss_history = []\n"
   ]
  },
  {
   "cell_type": "code",
   "execution_count": 20,
   "metadata": {},
   "outputs": [],
   "source": [
    "def epsilon_schedule(start_eps, end_eps, step, final_step):\n",
    "    return start_eps + (end_eps-start_eps)*min(step, final_step)/final_step\n",
    "\n",
    "def smoothen(values):\n",
    "    kernel = gaussian(100, std=100)\n",
    "    kernel = kernel / np.sum(kernel)\n",
    "    return convolve(values, kernel, 'valid')"
   ]
  },
  {
   "cell_type": "code",
   "execution_count": 21,
   "metadata": {},
   "outputs": [
    {
     "name": "stdout",
     "output_type": "stream",
     "text": [
      "buffer size = 10000, epsilon = 0.05000\n"
     ]
    },
    {
     "data": {
      "image/png": "[encoded data removed]",
      "text/plain": [
       "<Figure size 1152x360 with 2 Axes>"
      ]
     },
     "metadata": {
      "needs_background": "light"
     },
     "output_type": "display_data"
    },
    {
     "name": "stderr",
     "output_type": "stream",
     "text": [
      "100%|███████████████████████████████████████████████████████████████████████████| 50001/50001 [04:39<00:00, 178.96it/s]\n"
     ]
    }
   ],
   "source": [
    "state = env.reset()\n",
    "\n",
    "for step in trange(total_steps + 1):\n",
    "    \n",
    "    # reduce exploration as we progress\n",
    "    agent.epsilon = epsilon_schedule(start_epsilon, end_epsilon, step, eps_decay_final_step)\n",
    "\n",
    "    # take timesteps_per_epoch and update experience replay buffer\n",
    "    _, state = play_and_record(state, agent, env, exp_replay, timesteps_per_epoch)\n",
    "\n",
    "    # train by sampling batch_size of data from experience replay\n",
    "    states, actions, rewards, next_states, done_flags = exp_replay.sample(batch_size)\n",
    "    \n",
    "\n",
    "    # loss = <compute TD loss>\n",
    "    loss = compute_td_loss(agent, target_network, \n",
    "                           states, actions, rewards, next_states, done_flags,                  \n",
    "                           gamma=0.99,\n",
    "                           device=device)\n",
    "\n",
    "    loss.backward()\n",
    "    grad_norm = nn.utils.clip_grad_norm_(agent.parameters(), max_grad_norm)\n",
    "    opt.step()\n",
    "    opt.zero_grad()\n",
    "\n",
    "    if step % loss_freq == 0:\n",
    "        td_loss_history.append(loss.data.cpu().item())\n",
    "\n",
    "    if step % refresh_target_network_freq == 0:\n",
    "        # Load agent weights into target_network\n",
    "        target_network.load_state_dict(agent.state_dict())\n",
    "\n",
    "    if step % eval_freq == 0:\n",
    "        # eval the agent\n",
    "        mean_rw_history.append(evaluate(\n",
    "            make_env(env_name, seed=step), agent, n_games=3, greedy=True, t_max=1000)\n",
    "        )\n",
    "\n",
    "        clear_output(True)\n",
    "        print(\"buffer size = %i, epsilon = %.5f\" %\n",
    "              (len(exp_replay), agent.epsilon))\n",
    "\n",
    "        plt.figure(figsize=[16, 5])\n",
    "        plt.subplot(1, 2, 1)\n",
    "        plt.title(\"Mean reward per episode\")\n",
    "        plt.plot(mean_rw_history)\n",
    "        plt.grid()\n",
    "\n",
    "        assert not np.isnan(td_loss_history[-1])\n",
    "        plt.subplot(1, 2, 2)\n",
    "        plt.title(\"TD loss history (smoothened)\")\n",
    "        plt.plot(smoothen(td_loss_history))\n",
    "        plt.grid()\n",
    "\n",
    "        plt.show()"
   ]
  },
  {
   "cell_type": "code",
   "execution_count": 22,
   "metadata": {},
   "outputs": [
    {
     "name": "stdout",
     "output_type": "stream",
     "text": [
      "final score: 348.93333333333334\n",
      "Well done\n"
     ]
    }
   ],
   "source": [
    "final_score = evaluate(\n",
    "  make_env(env_name),\n",
    "  agent, n_games=30, greedy=True, t_max=1000\n",
    ")\n",
    "print('final score:', final_score)\n",
    "print('Well done')"
   ]
  },
  {
   "cell_type": "markdown",
   "metadata": {},
   "source": [
    "**Let us record a video of trained agent**"
   ]
  },
  {
   "cell_type": "code",
   "execution_count": 23,
   "metadata": {},
   "outputs": [],
   "source": [
    "def generate_animation(env, agent, save_dir):\n",
    "    \n",
    "    try:\n",
    "        env = gym.wrappers.Monitor(\n",
    "            env, save_dir, video_callable=lambda id: True, force=True, mode='evaluation')\n",
    "    except gym.error.Error as e:\n",
    "        print(e)\n",
    "\n",
    "    if not os.path.exists(save_dir):\n",
    "        os.makedirs(save_dir)\n",
    "        \n",
    "    state = env.reset()\n",
    "    reward = 0\n",
    "    while True:\n",
    "        qvalues = agent.get_qvalues([state])\n",
    "        action = qvalues.argmax(axis=-1)[0]\n",
    "        state, r, done, _ = env.step(action)\n",
    "        reward += r\n",
    "        if done:\n",
    "            print('Got reward: {}'.format(reward))\n",
    "            break\n",
    "            \n",
    "def display_animation(filepath):\n",
    "    video = io.open(filepath, 'r+b').read()\n",
    "    encoded = base64.b64encode(video)\n",
    "    return HTML(data='''<video alt=\"test\" controls>\n",
    "                <source src=\"data:video/mp4;base64,{0}\" type=\"video/mp4\" />\n",
    "                 </video>'''.format(encoded.decode('ascii')))"
   ]
  },
  {
   "cell_type": "code",
   "execution_count": 24,
   "metadata": {},
   "outputs": [
    {
     "name": "stdout",
     "output_type": "stream",
     "text": [
      "Got reward: 327.0\n"
     ]
    },
    {
     "data": {
      "text/html": [
       "<video alt=\"test\" controls>\n",
       "                <source src=\"data:video/mp4;base64,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\" type=\"video/mp4\" />\n",
       "                 </video>"
      ],
      "text/plain": [
       "<IPython.core.display.HTML object>"
      ]
     },
     "execution_count": 24,
     "metadata": {},
     "output_type": "execute_result"
    }
   ],
   "source": [
    "# Animate learned policy\n",
    "save_dir='./videos/pytorch/6_1/'\n",
    "env = make_env(env_name)\n",
    "generate_animation(env, agent, save_dir=save_dir)\n",
    "[filepath] = glob.glob(os.path.join(save_dir, '*.mp4'))\n",
    "display_animation(filepath)\n"
   ]
  },
  {
   "cell_type": "code",
   "execution_count": 24,
   "metadata": {},
   "outputs": [],
   "source": [
    "#TODO\n",
    "\n",
    "# Try to run this on another environment of your choice from OpenAI Gym\n",
    "# read the accompanying text and try to enahnce the network using various variants\n"
   ]
  },
  {
   "cell_type": "markdown",
   "metadata": {},
   "source": [
    "### Summary\n",
    "\n",
    "In this notebook we saw how to train a DQN agent with experience replay and target networks. We can improve this agent with many tricks. As we go along, we will be implementing many of these variants."
   ]
  }
 ],
 "metadata": {
  "kernelspec": {
   "display_name": "Python 3",
   "language": "python",
   "name": "python3"
  },
  "language_info": {
   "codemirror_mode": {
    "name": "ipython",
    "version": 3
   },
   "file_extension": ".py",
   "mimetype": "text/x-python",
   "name": "python",
   "nbconvert_exporter": "python",
   "pygments_lexer": "ipython3",
   "version": "3.8.3"
  }
 },
 "nbformat": 4,
 "nbformat_minor": 1
}
