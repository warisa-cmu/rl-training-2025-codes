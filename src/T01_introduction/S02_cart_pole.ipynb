{
 "cells": [
  {
   "cell_type": "markdown",
   "id": "caf798c2",
   "metadata": {},
   "source": [
    "# Cart Pole\n",
    "\n",
    "https://gymnasium.farama.org/environments/classic_control/cart_pole/\n"
   ]
  },
  {
   "cell_type": "code",
   "execution_count": null,
   "id": "a8e59752",
   "metadata": {},
   "outputs": [],
   "source": [
    "import gymnasium as gym\n",
    "from gymnasium.wrappers import RecordVideo\n",
    "import datetime\n",
    "\n",
    "_env = gym.make(\"CartPole-v1\", render_mode=\"rgb_array\")\n",
    "timestamp = int(datetime.datetime.now().timestamp())\n",
    "env = RecordVideo(env=_env, video_folder=\"./video\", name_prefix=timestamp)"
   ]
  },
  {
   "cell_type": "code",
   "execution_count": null,
   "id": "66a0e63f",
   "metadata": {},
   "outputs": [],
   "source": [
    "total_reward = 0.0\n",
    "total_steps = 0\n",
    "obs, _ = env.reset()\n",
    "\n",
    "done = False\n",
    "while not done:\n",
    "    action = env.action_space.sample()\n",
    "    obs, reward, terminated, truncated, info = env.step(action)\n",
    "    total_reward += reward\n",
    "    total_steps += 1\n",
    "    done = terminated or truncated\n",
    "    print(\n",
    "        f\"Step {total_steps:2d}: action={action:2d}, Reward={reward:5.2f}, \"\n",
    "        f\"Terminated={terminated}, Truncated={truncated}, info={info}\"\n",
    "    )\n",
    "\n",
    "print(\n",
    "    f\"Episode finished after {total_steps} steps with total reward: {total_reward:.2f}\"\n",
    ")\n",
    "env.close()"
   ]
  }
 ],
 "metadata": {
  "kernelspec": {
   "display_name": "rl-training-2025-codes",
   "language": "python",
   "name": "python3"
  },
  "language_info": {
   "codemirror_mode": {
    "name": "ipython",
    "version": 3
   },
   "file_extension": ".py",
   "mimetype": "text/x-python",
   "name": "python",
   "nbconvert_exporter": "python",
   "pygments_lexer": "ipython3",
   "version": "3.12.10"
  }
 },
 "nbformat": 4,
 "nbformat_minor": 5
}
