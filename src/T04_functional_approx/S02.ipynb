{
 "cells": [
  {
   "cell_type": "markdown",
   "id": "46529529",
   "metadata": {},
   "source": [
    "# Semi Gradient n-step SARSA\n",
    "> Cart Pole Problem"
   ]
  },
  {
   "cell_type": "code",
   "execution_count": 79,
   "id": "a8c0c7be",
   "metadata": {},
   "outputs": [],
   "source": [
    "import gymnasium as gym\n",
    "import numpy as np\n",
    "import matplotlib.pyplot as plt\n",
    "from gymnasium.wrappers import RecordVideo\n",
    "import datetime"
   ]
  },
  {
   "cell_type": "markdown",
   "id": "e602c1d1",
   "metadata": {},
   "source": [
    "## Env\n",
    "\n",
    "https://gymnasium.farama.org/environments/classic_control/cart_pole/#observation-space\n"
   ]
  },
  {
   "cell_type": "code",
   "execution_count": 80,
   "id": "a75e2329",
   "metadata": {},
   "outputs": [
    {
     "data": {
      "text/plain": [
       "<matplotlib.image.AxesImage at 0x230113d5520>"
      ]
     },
     "execution_count": 80,
     "metadata": {},
     "output_type": "execute_result"
    },
    {
     "data": {
      "image/png": "[encoded data removed]",
      "text/plain": [
       "<Figure size 640x480 with 1 Axes>"
      ]
     },
     "metadata": {},
     "output_type": "display_data"
    }
   ],
   "source": [
    "env = gym.make(\"CartPole-v1\", render_mode=\"rgb_array\")\n",
    "\n",
    "# increase episode length from 200 to 4000\n",
    "env._max_episode_steps = 4000\n",
    "\n",
    "np.random.seed(13)\n",
    "env.reset()\n",
    "plt.imshow(env.render())"
   ]
  },
  {
   "cell_type": "code",
   "execution_count": 81,
   "id": "6797b457",
   "metadata": {},
   "outputs": [
    {
     "name": "stdout",
     "output_type": "stream",
     "text": [
      "[ 0.0038904   0.0012998  -0.02776357  0.04863878]\n"
     ]
    }
   ],
   "source": [
    "state, _ = env.reset()\n",
    "print(state)"
   ]
  },
  {
   "cell_type": "code",
   "execution_count": 82,
   "id": "7b930150",
   "metadata": {},
   "outputs": [
    {
     "name": "stdout",
     "output_type": "stream",
     "text": [
      "0\n"
     ]
    }
   ],
   "source": [
    "print(env.action_space.sample())"
   ]
  },
  {
   "cell_type": "markdown",
   "id": "b2faae10",
   "metadata": {},
   "source": [
    "## Random Action\n"
   ]
  },
  {
   "cell_type": "code",
   "execution_count": 83,
   "id": "75209deb",
   "metadata": {},
   "outputs": [
    {
     "name": "stdout",
     "output_type": "stream",
     "text": [
      "Episode finished after 15 steps with total reward: 15.00\n"
     ]
    },
    {
     "name": "stderr",
     "output_type": "stream",
     "text": [
      "c:\\Users\\admin\\Coding\\research\\rl-training-2025-codes\\.venv\\Lib\\site-packages\\gymnasium\\wrappers\\rendering.py:283: UserWarning: \u001b[33mWARN: Overwriting existing videos at c:\\Users\\admin\\Coding\\research\\rl-training-2025-codes\\src\\T04_functional_approx\\video folder (try specifying a different `video_folder` for the `RecordVideo` wrapper if this is not desired)\u001b[0m\n",
      "  logger.warn(\n"
     ]
    }
   ],
   "source": [
    "total_reward = 0.0\n",
    "total_steps = 0\n",
    "timestamp = int(datetime.datetime.now().timestamp())\n",
    "env = RecordVideo(env=env, video_folder=\"./video\", name_prefix=timestamp)\n",
    "obs, _ = env.reset()\n",
    "\n",
    "done = False\n",
    "while not done:\n",
    "    action = env.action_space.sample()\n",
    "    obs, reward, terminated, truncated, info = env.step(action)\n",
    "    total_reward += reward\n",
    "    total_steps += 1\n",
    "    done = terminated or truncated\n",
    "    if total_steps % 200 == 0:\n",
    "        print(\n",
    "            f\"Step {total_steps:2d}: action={action:2d}, Reward={reward:5.2f}, \"\n",
    "            f\"Terminated={terminated}, Truncated={truncated}, info={info}\"\n",
    "        )\n",
    "\n",
    "print(\n",
    "    f\"Episode finished after {total_steps} steps with total reward: {total_reward:.2f}\"\n",
    ")\n",
    "env.close()"
   ]
  },
  {
   "cell_type": "markdown",
   "id": "9958e6e6",
   "metadata": {},
   "source": [
    "## Reinforcement Learning\n"
   ]
  },
  {
   "cell_type": "code",
   "execution_count": 84,
   "id": "2795af40",
   "metadata": {},
   "outputs": [],
   "source": [
    "# The implementation of tiles3 is from Richard Sutton's website\n",
    "# http://incompleteideas.net/tiles/tiles3.html\n",
    "from tiles3 import IHT, tiles"
   ]
  },
  {
   "cell_type": "code",
   "execution_count": 85,
   "id": "3054562d",
   "metadata": {},
   "outputs": [],
   "source": [
    "class QEstimator:\n",
    "    def __init__(\n",
    "        self, step_size, num_of_tilings=8, tiles_per_dim=8, max_size=2048, epsilon=0.0\n",
    "    ):\n",
    "        self.max_size = max_size\n",
    "        self.num_of_tilings = num_of_tilings\n",
    "        self.tiles_per_dim = tiles_per_dim\n",
    "        self.epsilon = epsilon\n",
    "        self.step_size = step_size / num_of_tilings\n",
    "\n",
    "        self.table = IHT(max_size)\n",
    "\n",
    "        self.w = np.zeros(max_size)\n",
    "\n",
    "        # Based on values from https://gymnasium.farama.org/environments/classic_control/cart_pole/#observation-space\n",
    "        # The Cart Velocity and Pole Angular Velocity ranges are set heuristically.\n",
    "        self.env_observation_space_high = [4.8, 5, 0.418, 5]\n",
    "        self.env_observation_space_low = [-4.8, -5, -0.418, -5]\n",
    "\n",
    "        self.cart_pos_scale = self.tiles_per_dim / (\n",
    "            self.env_observation_space_high[0] - self.env_observation_space_low[0]\n",
    "        )\n",
    "        self.cart_vel_scale = self.tiles_per_dim / (\n",
    "            self.env_observation_space_high[1] - self.env_observation_space_low[1]\n",
    "        )\n",
    "        self.pole_angle_scale = self.tiles_per_dim / (\n",
    "            self.env_observation_space_high[2] - self.env_observation_space_low[2]\n",
    "        )\n",
    "        self.pole_angle_vel_scale = self.tiles_per_dim / (\n",
    "            self.env_observation_space_high[3] - self.env_observation_space_low[3]\n",
    "        )\n",
    "\n",
    "    def get_active_features(self, state, action):\n",
    "        cart_pos, cart_vel, pole_angle, pole_angle_vel = state\n",
    "        active_features = tiles(\n",
    "            self.table,\n",
    "            self.num_of_tilings,\n",
    "            [\n",
    "                self.cart_pos_scale * (cart_pos - self.env_observation_space_low[0]),\n",
    "                self.cart_vel_scale * (cart_vel - self.env_observation_space_low[1]),\n",
    "                self.pole_angle_scale\n",
    "                * (pole_angle - self.env_observation_space_low[2]),\n",
    "                self.pole_angle_vel_scale\n",
    "                * (pole_angle_vel - self.env_observation_space_low[3]),\n",
    "            ],\n",
    "            [action],\n",
    "        )\n",
    "        return active_features\n",
    "\n",
    "    def q_predict(self, state, action):\n",
    "        active_features = self.get_active_features(state, action)\n",
    "        return np.sum(self.w[active_features])\n",
    "\n",
    "    # learn with given state, action and target\n",
    "    def q_update(self, state, action, target):\n",
    "        active_features = self.get_active_features(state, action)\n",
    "        q_s_a = np.sum(self.w[active_features])\n",
    "        delta = target - q_s_a\n",
    "        self.w[active_features] += self.step_size * delta\n",
    "\n",
    "    def get_eps_greedy_action(self, state):\n",
    "        if np.random.rand() < self.epsilon:\n",
    "            return np.random.choice(env.action_space.n)\n",
    "        else:\n",
    "            qvals = np.array(\n",
    "                [self.q_predict(state, action) for action in range(env.action_space.n)]\n",
    "            )\n",
    "            return np.argmax(qvals)"
   ]
  },
  {
   "cell_type": "code",
   "execution_count": 86,
   "id": "55f9db01",
   "metadata": {},
   "outputs": [],
   "source": [
    "def sarsa_n(qhat, env, n=1, gamma=1.0, episode_cnt=10000):\n",
    "    episode_rewards = []\n",
    "    print_every = max(1, episode_cnt // 10) \n",
    "    for ec in range(episode_cnt):\n",
    "        if ec % print_every == 0 or ec == episode_cnt - 1:\n",
    "            print(f\"Episode: {ec + 1}/{episode_cnt}\")\n",
    "        state, _ = env.reset()\n",
    "        action = qhat.get_eps_greedy_action(state)\n",
    "        T = float(\"inf\")\n",
    "        t = 0\n",
    "        states = [state]\n",
    "        actions = [action]\n",
    "        rewards = [0.0]\n",
    "        while True:\n",
    "            if t < T:\n",
    "                next_state, reward, done, _, _ = env.step(action)\n",
    "                states.append(next_state)\n",
    "                rewards.append(reward)\n",
    "\n",
    "                if done:\n",
    "                    T = t + 1\n",
    "                else:\n",
    "                    next_action = qhat.get_eps_greedy_action(next_state)\n",
    "                    actions.append(next_action)\n",
    "\n",
    "            tau = t - n + 1\n",
    "\n",
    "            if tau >= 0:\n",
    "                G = 0\n",
    "                for i in range(tau + 1, min(tau + n, T) + 1):\n",
    "                    G += gamma ** (i - tau - 1) * rewards[i]\n",
    "                if tau + n < T:\n",
    "                    G += gamma**n * qhat.q_predict(states[tau + n], actions[tau + n])\n",
    "                qhat.q_update(states[tau], actions[tau], G)\n",
    "\n",
    "            if tau == T - 1:\n",
    "                episode_rewards.append(np.sum(rewards))\n",
    "                break\n",
    "            else:\n",
    "                t += 1\n",
    "                state = next_state\n",
    "                action = next_action\n",
    "\n",
    "    return np.array(episode_rewards)"
   ]
  },
  {
   "cell_type": "code",
   "execution_count": 87,
   "id": "fa27a0f6",
   "metadata": {},
   "outputs": [],
   "source": [
    "# plot rewards\n",
    "def plot_rewards(env_name, rewards, label):\n",
    "    plt.title(\"env={}, Mean reward = {:.1f}\".format(env_name, np.mean(rewards[-20:])))\n",
    "    plt.plot(rewards, label=label)\n",
    "    plt.grid()\n",
    "    plt.legend()\n",
    "    # plt.ylim(-500, 0)\n",
    "    plt.show()"
   ]
  },
  {
   "cell_type": "code",
   "execution_count": 88,
   "id": "07477f77",
   "metadata": {},
   "outputs": [],
   "source": [
    "# Create a n-SARSA Learning agent\n",
    "step_size = 0.2\n",
    "n = 4\n",
    "epsilon = 0.01\n",
    "gamma = 1.0\n",
    "estimator = QEstimator(step_size, epsilon=epsilon, max_size=10000)\n",
    "reward_arr = []"
   ]
  },
  {
   "cell_type": "code",
   "execution_count": 97,
   "id": "7f4a2b0c",
   "metadata": {},
   "outputs": [
    {
     "name": "stdout",
     "output_type": "stream",
     "text": [
      "[ 0.03647976  0.03553025  0.03110234 -0.02385536]\n",
      "Episode: 1/10\n",
      "Episode: 2/10\n",
      "Episode: 3/10\n",
      "Episode: 4/10\n",
      "Episode: 5/10\n",
      "Episode: 6/10\n",
      "Episode: 7/10\n",
      "Episode: 8/10\n",
      "Episode: 9/10\n",
      "Episode: 10/10\n"
     ]
    },
    {
     "data": {
      "image/png": "[encoded data removed]",
      "text/plain": [
       "<Figure size 640x480 with 1 Axes>"
      ]
     },
     "metadata": {},
     "output_type": "display_data"
    }
   ],
   "source": [
    "# episode_cnt = 500\n",
    "episode_cnt = 10\n",
    "\n",
    "# Initialize environment\n",
    "env = gym.make(\"CartPole-v1\", render_mode=\"rgb_array\")\n",
    "state, _ = env.reset(seed=13)\n",
    "print(state)\n",
    "rewards = sarsa_n(\n",
    "    estimator,\n",
    "    env=env,\n",
    "    n=n,\n",
    "    gamma=gamma,\n",
    "    episode_cnt=episode_cnt,\n",
    ")\n",
    "reward_arr = [*reward_arr, *rewards]\n",
    "# plot rewards\n",
    "plot_rewards(\"Cart Pole\", reward_arr, \"Semi Grad n-step SARSA\")"
   ]
  },
  {
   "cell_type": "markdown",
   "id": "2c1fb3ee",
   "metadata": {},
   "source": [
    "### Take a look into the agent\n"
   ]
  },
  {
   "cell_type": "code",
   "execution_count": 90,
   "id": "0e71ae81",
   "metadata": {},
   "outputs": [
    {
     "name": "stdout",
     "output_type": "stream",
     "text": [
      "========================================\n",
      "Sampled state:  [-1.253599   -0.57662505 -0.38998106 -0.6090739 ]\n",
      "Sampled action: 1\n",
      "========================================\n",
      "Active features for selected state-action pair:\n",
      "[173, 174, 175, 176, 177, 178, 179, 180]\n",
      "========================================\n",
      "Q-value predictions for all actions:\n",
      "  Action 0: 0.000\n",
      "  Action 1: 0.000\n",
      "========================================\n",
      "Epsilon-greedy action for sampled state: 0\n",
      "========================================\n"
     ]
    }
   ],
   "source": [
    "state = env.observation_space.sample()\n",
    "action = env.action_space.sample()\n",
    "print(\"=\" * 40)\n",
    "print(f\"Sampled state:  {state}\")\n",
    "print(f\"Sampled action: {action}\")\n",
    "print(\"=\" * 40)\n",
    "\n",
    "active_features = estimator.get_active_features(state=state, action=action)\n",
    "print(\"Active features for selected state-action pair:\")\n",
    "print(active_features)\n",
    "print(\"=\" * 40)\n",
    "\n",
    "q_pred = [estimator.q_predict(state=state, action=a) for a in range(env.action_space.n)]\n",
    "print(\"Q-value predictions for all actions:\")\n",
    "for idx, q in enumerate(q_pred):\n",
    "    print(f\"  Action {idx}: {q:.3f}\")\n",
    "print(\"=\" * 40)\n",
    "\n",
    "a_greedy = estimator.get_eps_greedy_action(state=state)\n",
    "print(f\"Epsilon-greedy action for sampled state: {a_greedy}\")\n",
    "print(\"=\" * 40)"
   ]
  },
  {
   "cell_type": "markdown",
   "id": "df655e47",
   "metadata": {},
   "source": [
    "## Take a look at the result\n"
   ]
  },
  {
   "cell_type": "code",
   "execution_count": 91,
   "id": "a9cbfdd6",
   "metadata": {},
   "outputs": [
    {
     "name": "stdout",
     "output_type": "stream",
     "text": [
      "Episode: 1/1\n"
     ]
    }
   ],
   "source": [
    "env.close()\n",
    "env = gym.make(\"CartPole-v1\", render_mode=\"rgb_array\")\n",
    "timestamp = int(datetime.datetime.now().timestamp())\n",
    "timestamp = int(datetime.datetime.now().timestamp())\n",
    "env = RecordVideo(env=env, video_folder=\"./video\", name_prefix=timestamp)\n",
    "rewards = sarsa_n(\n",
    "    estimator,\n",
    "    env=env,\n",
    "    n=n,\n",
    "    gamma=gamma,\n",
    "    episode_cnt=1,\n",
    ")\n",
    "env.close()"
   ]
  }
 ],
 "metadata": {
  "kernelspec": {
   "display_name": "rl-training-2025-codes",
   "language": "python",
   "name": "python3"
  },
  "language_info": {
   "codemirror_mode": {
    "name": "ipython",
    "version": 3
   },
   "file_extension": ".py",
   "mimetype": "text/x-python",
   "name": "python",
   "nbconvert_exporter": "python",
   "pygments_lexer": "ipython3",
   "version": "3.12.10"
  }
 },
 "nbformat": 4,
 "nbformat_minor": 5
}
