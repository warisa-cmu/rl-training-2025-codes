{
 "cells": [
  {
   "cell_type": "markdown",
   "id": "81d85e57",
   "metadata": {},
   "source": [
    "# Off Policy MC \n",
    "Does not work as Q is not changing."
   ]
  },
  {
   "cell_type": "code",
   "execution_count": null,
   "id": "bb24fea7",
   "metadata": {},
   "outputs": [],
   "source": [
    "import numpy as np\n",
    "from gridworld import GridworldEnv\n",
    "\n",
    "env = GridworldEnv()"
   ]
  },
  {
   "cell_type": "code",
   "execution_count": null,
   "id": "65911bd6",
   "metadata": {},
   "outputs": [],
   "source": [
    "def mc_control_off_policy(env, num_episodes, discount=1.0, debug=False):\n",
    "    def argmax_a(arr):\n",
    "        \"\"\"\n",
    "        Return idx of max element in an array.\n",
    "        Break ties uniformly.\n",
    "        \"\"\"\n",
    "        max_idx = []\n",
    "        max_val = float(\"-inf\")\n",
    "        for idx, elem in enumerate(arr):\n",
    "            if elem == max_val:\n",
    "                max_idx.append(idx)\n",
    "            elif elem > max_val:\n",
    "                max_idx = [idx]\n",
    "                max_val = elem\n",
    "        return np.random.choice(max_idx)\n",
    "\n",
    "    def get_b(state, Q, eps=0.2):\n",
    "        if np.random.random() < eps:\n",
    "            A = np.ones(env.nA, dtype=float) / env.nA\n",
    "        else:\n",
    "            A = np.zeros(env.nA)\n",
    "            A[argmax_a(Q[state])] = 1\n",
    "        return A\n",
    "\n",
    "    Q = np.zeros((env.nS, env.nA)) + 0\n",
    "    C = np.zeros((env.nS, env.nA))\n",
    "\n",
    "    for i_episode in range(1, num_episodes + 1):\n",
    "        if debug:\n",
    "            if i_episode % 100 == 0:\n",
    "                print(\"\\rEpisode {}/{}.\".format(i_episode, num_episodes))\n",
    "\n",
    "        state, _ = env.reset()\n",
    "        episode = []\n",
    "        while True:\n",
    "            probs = get_b(state, Q)\n",
    "            action = np.random.choice(len(probs), p=probs)\n",
    "            next_state, reward, done, _, _ = env.step(action)\n",
    "            episode.append((state, action, reward))\n",
    "            if done:\n",
    "                break\n",
    "            state = next_state\n",
    "\n",
    "        G = 0.0\n",
    "        W = 1.0\n",
    "\n",
    "        for t in range(len(episode))[::-1]:\n",
    "            state, action, reward = episode[t]\n",
    "            G = discount * G + reward\n",
    "            C[state, action] += W\n",
    "            Q[state, action] += (W / C[state, action]) * (G - Q[state, action])\n",
    "            if action != argmax_a(Q[state]):\n",
    "                break\n",
    "            prob = get_b(state, Q)[action]\n",
    "            if prob == 0:\n",
    "                break\n",
    "            W = W * (1 / prob)\n",
    "\n",
    "    V = np.zeros(env.nS)\n",
    "    policy = np.zeros(env.nS)\n",
    "    for s in range(env.nS):\n",
    "        best_action = argmax_a(Q[s])\n",
    "        policy[s] = best_action\n",
    "        V[s] = Q[s][best_action]\n",
    "\n",
    "    return Q, policy, V"
   ]
  },
  {
   "cell_type": "code",
   "execution_count": null,
   "id": "a13c7292",
   "metadata": {},
   "outputs": [],
   "source": [
    "Q_pi, policy, V_pi = mc_control_off_policy(env, num_episodes=1000, debug=True)"
   ]
  },
  {
   "cell_type": "code",
   "execution_count": null,
   "id": "046be742",
   "metadata": {},
   "outputs": [],
   "source": [
    "Q_pi"
   ]
  },
  {
   "cell_type": "code",
   "execution_count": null,
   "id": "03c15ac8",
   "metadata": {},
   "outputs": [],
   "source": [
    "policy"
   ]
  },
  {
   "cell_type": "code",
   "execution_count": null,
   "id": "620f473f",
   "metadata": {},
   "outputs": [],
   "source": [
    "V_pi"
   ]
  }
 ],
 "metadata": {
  "kernelspec": {
   "display_name": "rl-training-2025-codes",
   "language": "python",
   "name": "python3"
  },
  "language_info": {
   "codemirror_mode": {
    "name": "ipython",
    "version": 3
   },
   "file_extension": ".py",
   "mimetype": "text/x-python",
   "name": "python",
   "nbconvert_exporter": "python",
   "pygments_lexer": "ipython3",
   "version": "3.12.10"
  }
 },
 "nbformat": 4,
 "nbformat_minor": 5
}
