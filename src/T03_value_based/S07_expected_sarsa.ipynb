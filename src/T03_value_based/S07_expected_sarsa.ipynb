{
 "cells": [
  {
   "cell_type": "markdown",
   "id": "6d6b511f",
   "metadata": {},
   "source": [
    "# Expected SARSA\n"
   ]
  },
  {
   "cell_type": "code",
   "execution_count": 1,
   "id": "06afdfbc",
   "metadata": {},
   "outputs": [],
   "source": [
    "# Initial imports and enviroment setup\n",
    "import gymnasium as gym\n",
    "import numpy as np\n",
    "import matplotlib.pyplot as plt\n",
    "from collections import defaultdict"
   ]
  },
  {
   "cell_type": "code",
   "execution_count": 2,
   "id": "6e874d42",
   "metadata": {},
   "outputs": [],
   "source": [
    "# Expected SARSA Learning agent class\n",
    "\n",
    "\n",
    "class ExpectedSARSAAgent:\n",
    "    def __init__(self, alpha, epsilon, gamma, get_possible_actions):\n",
    "        self.get_possible_actions = get_possible_actions\n",
    "        self.alpha = alpha\n",
    "        self.epsilon = epsilon\n",
    "        self.gamma = gamma\n",
    "        self._Q = defaultdict(lambda: defaultdict(lambda: 0))\n",
    "\n",
    "    def get_Q(self, state, action):\n",
    "        return self._Q[state][action]\n",
    "\n",
    "    def set_Q(self, state, action, value):\n",
    "        self._Q[state][action] = value\n",
    "\n",
    "    # Expected SARSA Update\n",
    "    def update(self, state, action, reward, next_state, done):\n",
    "        if not done:\n",
    "            best_next_action = self.max_action(next_state)\n",
    "            actions = self.get_possible_actions(next_state)\n",
    "            next_q = 0\n",
    "            for next_action in actions:\n",
    "                if next_action == best_next_action:\n",
    "                    next_q += (\n",
    "                        1 - self.epsilon + self.epsilon / len(actions)\n",
    "                    ) * self.get_Q(next_state, next_action)\n",
    "                else:\n",
    "                    next_q += (self.epsilon / len(actions)) * self.get_Q(\n",
    "                        next_state, next_action\n",
    "                    )\n",
    "\n",
    "            td_error = reward + self.gamma * next_q - self.get_Q(state, action)\n",
    "        else:\n",
    "            td_error = reward - self.get_Q(state, action)\n",
    "\n",
    "        new_value = self.get_Q(state, action) + self.alpha * td_error\n",
    "        self.set_Q(state, action, new_value)\n",
    "\n",
    "    # get best A for Q(S,A) which maximizes the Q(S,a) for actions in state S\n",
    "    def max_action(self, state):\n",
    "        actions = self.get_possible_actions(state)\n",
    "        best_action = []\n",
    "        best_q_value = float(\"-inf\")\n",
    "\n",
    "        for action in actions:\n",
    "            q_s_a = self.get_Q(state, action)\n",
    "            if q_s_a > best_q_value:\n",
    "                best_action = [action]\n",
    "                best_q_value = q_s_a\n",
    "            elif q_s_a == best_q_value:\n",
    "                best_action.append(action)\n",
    "        return np.random.choice(np.array(best_action))\n",
    "\n",
    "    # choose action as per epsilon-greedy policy for exploration\n",
    "    def get_action(self, state):\n",
    "        actions = self.get_possible_actions(state)\n",
    "\n",
    "        if len(actions) == 0:\n",
    "            return None\n",
    "\n",
    "        if np.random.random() < self.epsilon:\n",
    "            a = np.random.choice(actions)\n",
    "            return a\n",
    "        else:\n",
    "            a = self.max_action(state)\n",
    "            return a"
   ]
  },
  {
   "cell_type": "code",
   "execution_count": 3,
   "id": "3226e413",
   "metadata": {},
   "outputs": [],
   "source": [
    "# training algorithm\n",
    "def train_agent(env, agent, episode_cnt=10000, tmax=10000, anneal_eps=True):\n",
    "    episode_rewards = []\n",
    "    for i in range(episode_cnt):\n",
    "        G = 0\n",
    "        state, _ = env.reset()\n",
    "        for t in range(tmax):\n",
    "            action = agent.get_action(state)\n",
    "            next_state, reward, done, _, _ = env.step(action)\n",
    "            agent.update(state, action, reward, next_state, done)\n",
    "            G += reward\n",
    "            if done:\n",
    "                episode_rewards.append(G)\n",
    "                # to reduce the exploration probability epsilon over the\n",
    "                # training period. YOu can set the flag to False\n",
    "                # and see the impact it has on the episode rewards\n",
    "                if anneal_eps:\n",
    "                    agent.epsilon = agent.epsilon * 0.99\n",
    "                break\n",
    "            state = next_state\n",
    "    return np.array(episode_rewards)"
   ]
  },
  {
   "cell_type": "code",
   "execution_count": 4,
   "id": "8e6cc7e4",
   "metadata": {},
   "outputs": [],
   "source": [
    "# plot rewards\n",
    "def plot_rewards(env_name, rewards, label):\n",
    "    plt.title(\"env={}, Mean reward = {:.1f}\".format(env_name,\n",
    "                                                    np.mean(rewards[-20:])))\n",
    "    plt.plot(rewards, label=label)\n",
    "    plt.grid()\n",
    "    plt.legend()\n",
    "    plt.ylim(-300, 0)\n",
    "    plt.show()"
   ]
  },
  {
   "cell_type": "code",
   "execution_count": 5,
   "id": "bb45e2e6",
   "metadata": {},
   "outputs": [],
   "source": [
    "# create cliff world environment\n",
    "# https://gymnasium.farama.org/environments/toy_text/cliff_walking/\n",
    "env = gym.make(\"CliffWalking-v0\")\n",
    "# print(env.__doc__)"
   ]
  },
  {
   "cell_type": "code",
   "execution_count": 6,
   "id": "2fd94a8a",
   "metadata": {},
   "outputs": [],
   "source": [
    "# create an Expected SARSA agent\n",
    "agent = ExpectedSARSAAgent(alpha=1.0, epsilon=0.2, gamma=0.99,\n",
    "                           get_possible_actions=lambda s : range(env.action_space.n))\n",
    "\n",
    "# train agent and get rewards for episodes\n",
    "rewards = train_agent(env, agent, episode_cnt = 1000)"
   ]
  },
  {
   "cell_type": "code",
   "execution_count": 7,
   "id": "935e78b3",
   "metadata": {},
   "outputs": [
    {
     "data": {
      "image/png": "[encoded data removed]",
      "text/plain": [
       "<Figure size 640x480 with 1 Axes>"
      ]
     },
     "metadata": {},
     "output_type": "display_data"
    }
   ],
   "source": [
    "# Plot per episode reward graph\n",
    "plot_rewards(\"Cliff World\", rewards, 'Expected SARSA')"
   ]
  },
  {
   "cell_type": "code",
   "execution_count": 8,
   "id": "fbf375d6",
   "metadata": {},
   "outputs": [],
   "source": [
    "def print_policy(env, agent):\n",
    "    actual_env = env.unwrapped\n",
    "    nR, nC = actual_env._cliff.shape\n",
    "    actions = \"^>v<\"  # Up, Right, Down, Left\n",
    "\n",
    "    for y in range(nR):\n",
    "        for x in range(nC):\n",
    "            idx = y * nC + x\n",
    "            if actual_env._cliff[y, x]:\n",
    "                print(\" C \", end=\"\")\n",
    "            elif idx == actual_env.start_state_index:\n",
    "                print(\" X \", end=\"\")\n",
    "            elif idx == nR * nC - 1:\n",
    "                print(\" T \", end=\"\")\n",
    "            else:\n",
    "                print(\" %s \" % actions[agent.max_action(idx)], end=\"\")\n",
    "        print()\n"
   ]
  },
  {
   "cell_type": "code",
   "execution_count": 9,
   "id": "cb1029ed",
   "metadata": {},
   "outputs": [
    {
     "name": "stdout",
     "output_type": "stream",
     "text": [
      " >  >  >  >  >  >  >  >  >  >  >  v \n",
      " >  >  >  >  >  >  >  >  >  >  >  v \n",
      " ^  ^  ^  >  ^  ^  >  ^  ^  ^  >  v \n",
      " X  C  C  C  C  C  C  C  C  C  C  T \n"
     ]
    }
   ],
   "source": [
    "# print policy\n",
    "print_policy(env, agent)"
   ]
  }
 ],
 "metadata": {
  "kernelspec": {
   "display_name": "rl-training-2025-codes",
   "language": "python",
   "name": "python3"
  },
  "language_info": {
   "codemirror_mode": {
    "name": "ipython",
    "version": 3
   },
   "file_extension": ".py",
   "mimetype": "text/x-python",
   "name": "python",
   "nbconvert_exporter": "python",
   "pygments_lexer": "ipython3",
   "version": "3.12.10"
  }
 },
 "nbformat": 4,
 "nbformat_minor": 5
}
