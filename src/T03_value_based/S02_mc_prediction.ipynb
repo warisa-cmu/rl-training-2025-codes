{
 "cells": [
  {
   "cell_type": "code",
   "execution_count": null,
   "id": "4b4a7381",
   "metadata": {},
   "outputs": [],
   "source": [
    "import numpy as np\n",
    "import seaborn as sns\n",
    "import matplotlib.pyplot as plt\n",
    "from gridworld import GridworldEnv\n",
    "\n",
    "env = GridworldEnv()"
   ]
  },
  {
   "cell_type": "code",
   "execution_count": 61,
   "id": "315b33db",
   "metadata": {},
   "outputs": [],
   "source": [
    "# MC Prediction\n",
    "def mc_policy_eval(policy, env, discount_factor=1.0, episode_count=100):\n",
    "    \"\"\"\n",
    "    Evaluate a policy given an environment.\n",
    "\n",
    "    Args:\n",
    "        policy: [S, A]shaped matrix representing the policy. Random in our case\n",
    "        env: OpenAI env. In model free setup you have no access to env.P, t\n",
    "             ransition dynamics of the environment.\n",
    "             use step(a) to take an action and receive a tuple of (\n",
    "             s', r, done, info)\n",
    "             env.nS is number of states in the environment.\n",
    "             env.nA is number of actions in the environment.\n",
    "        episode_count: Number of episodes:\n",
    "        discount_factor: Gamma discount factor.\n",
    "\n",
    "    Returns:\n",
    "        Vector of length env.nS representing the value function.\n",
    "    \"\"\"\n",
    "    # Start with (all 0) state value array and a visit count of zero\n",
    "    V = np.zeros(env.nS)\n",
    "    N = np.zeros(env.nS)\n",
    "    i = 0\n",
    "\n",
    "    # run multiple episodes\n",
    "    while i < episode_count:\n",
    "        # collect samples for one episode\n",
    "        episode_states = []\n",
    "        episode_returns = []\n",
    "        state, _ = env.reset()\n",
    "        episode_states.append(state)\n",
    "        while True:\n",
    "            action = np.random.choice(env.nA, p=policy[state])\n",
    "            (state, reward, done, _, _) = env.step(action)\n",
    "            episode_returns.append(reward)\n",
    "            if not done:\n",
    "                episode_states.append(state)\n",
    "            else:\n",
    "                break\n",
    "\n",
    "        # update state values\n",
    "        G = 0\n",
    "        count = len(episode_states)\n",
    "        for t in range(count - 1, -1, -1):\n",
    "            s, r = episode_states[t], episode_returns[t]\n",
    "            G = discount_factor * G + r\n",
    "            if s not in episode_states[:t]:\n",
    "                N[s] += 1\n",
    "                V[s] = V[s] + 1 / N[s] * (G - V[s])\n",
    "\n",
    "        i = i + 1\n",
    "\n",
    "    return np.array(V)"
   ]
  },
  {
   "cell_type": "code",
   "execution_count": 62,
   "id": "2733b7c7",
   "metadata": {},
   "outputs": [],
   "source": [
    "# Custom print to show state values inside the grid\n",
    "def grid_print(V):\n",
    "    ax = sns.heatmap(\n",
    "        V.reshape(env.shape),\n",
    "        annot=True,\n",
    "        square=True,\n",
    "        cbar=False,\n",
    "        cmap=\"Blues\",\n",
    "        xticklabels=False,\n",
    "        yticklabels=False,\n",
    "    )\n",
    "    plt.show()"
   ]
  },
  {
   "cell_type": "code",
   "execution_count": 63,
   "id": "a362d67d",
   "metadata": {},
   "outputs": [
    {
     "data": {
      "image/png": "[encoded data removed]",
      "text/plain": [
       "<Figure size 640x480 with 1 Axes>"
      ]
     },
     "metadata": {},
     "output_type": "display_data"
    }
   ],
   "source": [
    "# Create a random policy\n",
    "random_policy = np.ones([env.nS, env.nA]) / env.nA\n",
    "\n",
    "# run mc policy prediction for 100 episodes for random policy\n",
    "V_pi = mc_policy_eval(random_policy, env, discount_factor=1.0, episode_count=100)\n",
    "\n",
    "# Print policy\n",
    "grid_print(V_pi.reshape(env.shape))"
   ]
  },
  {
   "cell_type": "code",
   "execution_count": 64,
   "id": "884a471a",
   "metadata": {},
   "outputs": [
    {
     "data": {
      "image/png": "[encoded data removed]",
      "text/plain": [
       "<Figure size 640x480 with 1 Axes>"
      ]
     },
     "metadata": {},
     "output_type": "display_data"
    }
   ],
   "source": [
    "# run mc policy prediction for 100 episodes for random policy\n",
    "V_pi = mc_policy_eval(random_policy, env, discount_factor=1.0, episode_count=10000)\n",
    "\n",
    "# Print policy\n",
    "grid_print(V_pi.reshape(env.shape))"
   ]
  }
 ],
 "metadata": {
  "kernelspec": {
   "display_name": "rl-training-2025-codes",
   "language": "python",
   "name": "python3"
  },
  "language_info": {
   "codemirror_mode": {
    "name": "ipython",
    "version": 3
   },
   "file_extension": ".py",
   "mimetype": "text/x-python",
   "name": "python",
   "nbconvert_exporter": "python",
   "pygments_lexer": "ipython3",
   "version": "3.12.10"
  }
 },
 "nbformat": 4,
 "nbformat_minor": 5
}
