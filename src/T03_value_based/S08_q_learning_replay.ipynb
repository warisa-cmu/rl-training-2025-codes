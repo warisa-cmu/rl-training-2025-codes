{
 "cells": [
  {
   "cell_type": "markdown",
   "id": "d12bc12e",
   "metadata": {},
   "source": [
    "# Q Learning (Off Policy) with Experience Replay\n",
    "\n",
    "- Q agent with replay buffer is supposed to improve the initial convergence by sampling repeatedly from the buffer.\n",
    "    - Sample efficiency will become more apparent when we look at DQN.\n",
    "    - Over long run, there won't be any significant difference between the optimal values learnt with or without Replay Buffer.\n",
    "- It has another advantage of breaking correlation between samples. This aspect will also become apparent when we look at Deep Learning with Q-Learning i.e. DQN. "
   ]
  },
  {
   "cell_type": "code",
   "execution_count": 145,
   "id": "fa049a7f",
   "metadata": {},
   "outputs": [],
   "source": [
    "# Initial imports and enviroment setup\n",
    "import gymnasium as gym\n",
    "import numpy as np\n",
    "import matplotlib.pyplot as plt\n",
    "from collections import defaultdict"
   ]
  },
  {
   "cell_type": "code",
   "execution_count": 146,
   "id": "6e6de0e9",
   "metadata": {},
   "outputs": [],
   "source": [
    "# Q- Learning agent class\n",
    "\n",
    "\n",
    "class QLearningAgent:\n",
    "    def __init__(self, alpha, epsilon, gamma, get_possible_actions):\n",
    "        self.get_possible_actions = get_possible_actions\n",
    "        self.alpha = alpha\n",
    "        self.epsilon = epsilon\n",
    "        self.gamma = gamma\n",
    "        self._Q = defaultdict(lambda: defaultdict(lambda: 0))\n",
    "\n",
    "    def get_Q(self, state, action):\n",
    "        return self._Q[state][action]\n",
    "\n",
    "    def set_Q(self, state, action, value):\n",
    "        self._Q[state][action] = value\n",
    "\n",
    "    # Q learning update step\n",
    "    def update(self, state, action, reward, next_state, done):\n",
    "        if not done:\n",
    "            best_next_action = self.max_action(next_state)\n",
    "            td_error = (\n",
    "                reward\n",
    "                + self.gamma * self.get_Q(next_state, best_next_action)\n",
    "                - self.get_Q(state, action)\n",
    "            )\n",
    "        else:\n",
    "            td_error = reward - self.get_Q(state, action)\n",
    "\n",
    "        new_value = self.get_Q(state, action) + self.alpha * td_error\n",
    "        self.set_Q(state, action, new_value)\n",
    "\n",
    "    # get best A for Q(S,A) which maximizes the Q(S,a) for actions in state S\n",
    "    def max_action(self, state):\n",
    "        actions = self.get_possible_actions(state)\n",
    "        best_action = []\n",
    "        best_q_value = float(\"-inf\")\n",
    "\n",
    "        for action in actions:\n",
    "            q_s_a = self.get_Q(state, action)\n",
    "            if q_s_a > best_q_value:\n",
    "                best_action = [action]\n",
    "                best_q_value = q_s_a\n",
    "            elif q_s_a == best_q_value:\n",
    "                best_action.append(action)\n",
    "        return np.random.choice(np.array(best_action))\n",
    "\n",
    "    # choose action as per epsilon-greedy policy for exploration\n",
    "    def get_action(self, state):\n",
    "        actions = self.get_possible_actions(state)\n",
    "\n",
    "        if len(actions) == 0:\n",
    "            return None\n",
    "\n",
    "        if np.random.random() < self.epsilon:\n",
    "            a = np.random.choice(actions)\n",
    "            return a\n",
    "        else:\n",
    "            a = self.max_action(state)\n",
    "            return a"
   ]
  },
  {
   "cell_type": "code",
   "execution_count": 147,
   "id": "bc1c35a1",
   "metadata": {},
   "outputs": [],
   "source": [
    "# plot rewards\n",
    "def plot_rewards(env_name, rewards, label):\n",
    "    plt.title(\"env={}, Mean reward = {:.1f}\".format(env_name, np.mean(rewards[-20:])))\n",
    "    plt.plot(rewards, label=label)\n",
    "    plt.grid()\n",
    "    plt.legend()\n",
    "    plt.ylim(-300, 0)\n",
    "    plt.show()"
   ]
  },
  {
   "cell_type": "code",
   "execution_count": 148,
   "id": "4efb539f",
   "metadata": {},
   "outputs": [],
   "source": [
    "class ReplayBuffer:\n",
    "    def __init__(self, size):\n",
    "        self.size = size  # max number of items in buffer\n",
    "        self.buffer = []  # array to hold buffer\n",
    "\n",
    "    def __len__(self):\n",
    "        return len(self.buffer)\n",
    "\n",
    "    def add(self, state, action, reward, next_state, done):\n",
    "        item = (state, action, reward, next_state, done)\n",
    "        self.buffer = self.buffer[-self.size :] + [item]\n",
    "\n",
    "    def sample(self, batch_size):\n",
    "        idxs = np.random.choice(len(self.buffer), batch_size)\n",
    "        samples = [self.buffer[i] for i in idxs]\n",
    "        states, actions, rewards, next_states, done_flags = list(zip(*samples))\n",
    "        return states, actions, rewards, next_states, done_flags"
   ]
  },
  {
   "cell_type": "code",
   "execution_count": 149,
   "id": "b13670bd",
   "metadata": {},
   "outputs": [],
   "source": [
    "# training algorithm with reply buffer\n",
    "def train_agent(\n",
    "    env,\n",
    "    agent,\n",
    "    episode_cnt=10000,\n",
    "    tmax=10000,\n",
    "    anneal_eps=True,\n",
    "    replay_buffer=None,\n",
    "    batch_size=16,\n",
    "):\n",
    "    episode_rewards = []\n",
    "    for i in range(episode_cnt):\n",
    "        G = 0\n",
    "        state, _ = env.reset()\n",
    "        for t in range(tmax):\n",
    "            action = agent.get_action(state)\n",
    "            next_state, reward, done, _, _ = env.step(action)\n",
    "            if replay_buffer is not None:\n",
    "                replay_buffer.add(state, action, reward, next_state, done)\n",
    "                states, actions, rewards, next_states, done_flags = replay_buffer.sample(\n",
    "                    batch_size\n",
    "                )\n",
    "                for i in range(batch_size):\n",
    "                    agent.update(\n",
    "                        states[i], actions[i], rewards[i], next_states[i], done_flags[i]\n",
    "                    )\n",
    "            else:\n",
    "                agent.update(state, action, reward, next_state, done)\n",
    "\n",
    "            G += reward\n",
    "            if done:\n",
    "                episode_rewards.append(G)\n",
    "                # to reduce the exploration probability epsilon over the\n",
    "                # training period.\n",
    "                if anneal_eps:\n",
    "                    agent.epsilon = agent.epsilon * 0.99\n",
    "                break\n",
    "            state = next_state\n",
    "    return np.array(episode_rewards)"
   ]
  },
  {
   "cell_type": "code",
   "execution_count": 150,
   "id": "abfc6af3",
   "metadata": {},
   "outputs": [],
   "source": [
    "# create cliff world environment\n",
    "# https://gymnasium.farama.org/environments/toy_text/cliff_walking/\n",
    "env = gym.make(\"CliffWalking-v0\")\n",
    "# print(env.__doc__)"
   ]
  },
  {
   "cell_type": "code",
   "execution_count": 151,
   "id": "3fdcc992",
   "metadata": {},
   "outputs": [],
   "source": [
    "# create a Q Learning agent\n",
    "agent = QLearningAgent(alpha=0.25, epsilon=0.2, gamma=0.99, \n",
    "                       get_possible_actions=lambda s : range(env.action_space.n))\n",
    "\n",
    "# train agent using replay buffer and get rewards for episodes\n",
    "rewards = train_agent(env, agent, episode_cnt=1000, \n",
    "                      replay_buffer=ReplayBuffer(512))"
   ]
  },
  {
   "cell_type": "code",
   "execution_count": 152,
   "id": "779009eb",
   "metadata": {},
   "outputs": [
    {
     "data": {
      "image/png": "[encoded data removed]",
      "text/plain": [
       "<Figure size 640x480 with 1 Axes>"
      ]
     },
     "metadata": {},
     "output_type": "display_data"
    }
   ],
   "source": [
    "# plot per episode reward\n",
    "plot_rewards(\"Cliff World\", rewards, 'Q-Learning(Replay Buffer)')"
   ]
  },
  {
   "cell_type": "code",
   "execution_count": 153,
   "id": "cf32261c",
   "metadata": {},
   "outputs": [],
   "source": [
    "def print_policy(env, agent):\n",
    "    actual_env = env.unwrapped\n",
    "    nR, nC = actual_env._cliff.shape\n",
    "    actions = \"^>v<\"  # Up, Right, Down, Left\n",
    "\n",
    "    for y in range(nR):\n",
    "        for x in range(nC):\n",
    "            idx = y * nC + x\n",
    "            if actual_env._cliff[y, x]:\n",
    "                print(\" C \", end=\"\")\n",
    "            elif idx == actual_env.start_state_index:\n",
    "                print(\" X \", end=\"\")\n",
    "            elif idx == nR * nC - 1:\n",
    "                print(\" T \", end=\"\")\n",
    "            else:\n",
    "                print(\" %s \" % actions[agent.max_action(idx)], end=\"\")\n",
    "        print()\n"
   ]
  },
  {
   "cell_type": "code",
   "execution_count": 154,
   "id": "315b41f6",
   "metadata": {},
   "outputs": [
    {
     "name": "stdout",
     "output_type": "stream",
     "text": [
      " v  <  >  >  >  v  >  >  v  v  v  v \n",
      " v  v  v  >  >  v  >  >  >  >  >  v \n",
      " >  >  >  >  >  >  >  >  >  >  >  v \n",
      " X  C  C  C  C  C  C  C  C  C  C  T \n"
     ]
    }
   ],
   "source": [
    "# print policy learnt by the agent\n",
    "print_policy(env, agent)"
   ]
  }
 ],
 "metadata": {
  "kernelspec": {
   "display_name": "rl-training-2025-codes",
   "language": "python",
   "name": "python3"
  },
  "language_info": {
   "codemirror_mode": {
    "name": "ipython",
    "version": 3
   },
   "file_extension": ".py",
   "mimetype": "text/x-python",
   "name": "python",
   "nbconvert_exporter": "python",
   "pygments_lexer": "ipython3",
   "version": "3.12.10"
  }
 },
 "nbformat": 4,
 "nbformat_minor": 5
}
