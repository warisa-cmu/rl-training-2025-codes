{
 "cells": [
  {
   "cell_type": "code",
   "execution_count": 1,
   "id": "30ec191d",
   "metadata": {},
   "outputs": [
    {
     "name": "stdout",
     "output_type": "stream",
     "text": [
      "Coordinates for flat index 6 in shape (3, 4): (np.int64(1), np.int64(2))\n",
      "Coordinates for flat indices [ 0  5 11] in shape (3, 4): (array([0, 1, 2]), array([0, 1, 3]))\n"
     ]
    }
   ],
   "source": [
    "import numpy as np\n",
    "\n",
    "# Unravel a single flat index\n",
    "flat_index = 6\n",
    "array_shape = (3, 4)  # A 3x4 array\n",
    "coords = np.unravel_index(flat_index, array_shape)\n",
    "print(f\"Coordinates for flat index {flat_index} in shape {array_shape}: {coords}\")\n",
    "\n",
    "# Unravel an array of flat indices\n",
    "flat_indices = np.array([0, 5, 11])\n",
    "coords_array = np.unravel_index(flat_indices, array_shape)\n",
    "print(\n",
    "    f\"Coordinates for flat indices {flat_indices} in shape {array_shape}: {coords_array}\"\n",
    ")"
   ]
  }
 ],
 "metadata": {
  "kernelspec": {
   "display_name": "rl-training-2025-codes",
   "language": "python",
   "name": "python3"
  },
  "language_info": {
   "codemirror_mode": {
    "name": "ipython",
    "version": 3
   },
   "file_extension": ".py",
   "mimetype": "text/x-python",
   "name": "python",
   "nbconvert_exporter": "python",
   "pygments_lexer": "ipython3",
   "version": "3.12.10"
  }
 },
 "nbformat": 4,
 "nbformat_minor": 5
}
