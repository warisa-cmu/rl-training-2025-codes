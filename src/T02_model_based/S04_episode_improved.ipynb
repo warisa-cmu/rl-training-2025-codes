{
 "cells": [
  {
   "cell_type": "markdown",
   "id": "9106f1ee",
   "metadata": {},
   "source": [
    "# Gridworld\n"
   ]
  },
  {
   "cell_type": "code",
   "execution_count": 463,
   "id": "9b377bda",
   "metadata": {},
   "outputs": [],
   "source": [
    "import gymnasium as gym\n",
    "import gridworld  # this will auto-register the environment\n",
    "import pickle\n",
    "import numpy as np\n"
   ]
  },
  {
   "cell_type": "code",
   "execution_count": null,
   "id": "c4f1f4f9",
   "metadata": {},
   "outputs": [
    {
     "name": "stdout",
     "output_type": "stream",
     "text": [
      "[[0.25 0.25 0.25 0.25]\n",
      " [0.   0.   0.   1.  ]\n",
      " [0.   0.   0.   1.  ]\n",
      " [0.   0.   0.5  0.5 ]\n",
      " [1.   0.   0.   0.  ]\n",
      " [0.5  0.   0.   0.5 ]\n",
      " [0.   0.   0.5  0.5 ]\n",
      " [0.   0.   1.   0.  ]\n",
      " [1.   0.   0.   0.  ]\n",
      " [0.5  0.5  0.   0.  ]\n",
      " [0.   1.   0.   0.  ]\n",
      " [0.   0.   1.   0.  ]\n",
      " [1.   0.   0.   0.  ]\n",
      " [0.   1.   0.   0.  ]\n",
      " [0.   1.   0.   0.  ]\n",
      " [0.25 0.25 0.25 0.25]]\n"
     ]
    }
   ],
   "source": [
    "with open(\"S03_pi_star.pkl\", \"rb\") as file:\n",
    "    data = pickle.load(file)\n",
    "policy_optimal = data[\"policy\"]\n",
    "print(policy_optimal)"
   ]
  },
  {
   "cell_type": "code",
   "execution_count": 465,
   "id": "26e6fa9d",
   "metadata": {},
   "outputs": [],
   "source": [
    "env = gym.make(\"GridWorld-v0\")"
   ]
  },
  {
   "cell_type": "code",
   "execution_count": null,
   "id": "41f0624b",
   "metadata": {},
   "outputs": [],
   "source": [
    "def get_action(policy, state):\n",
    "    \"\"\"\n",
    "    Selects an action based on the given policy for a specific state.\n",
    "\n",
    "    Args:\n",
    "        policy (np.ndarray): A 2D array where each row corresponds to a state's action\n",
    "                             probability distribution.\n",
    "        state (int): The current state index.\n",
    "\n",
    "    Returns:\n",
    "        int: An action selected randomly according to the state's action probabilities\n",
    "             defined in the policy.\n",
    "    \"\"\"\n",
    "    nA = policy.shape[1]  # Number of possible actions (e.g., 4)\n",
    "    actions = np.arange(nA)  # Array of action indices: [0, 1, 2, 3]\n",
    "    prob = policy[state]  # Probability distribution over actions for the given state\n",
    "    return np.random.choice(\n",
    "        actions, p=prob\n",
    "    )  # Randomly choose action based on probabilities\n"
   ]
  },
  {
   "cell_type": "code",
   "execution_count": null,
   "id": "e0785202",
   "metadata": {},
   "outputs": [
    {
     "data": {
      "text/plain": [
       "np.int64(3)"
      ]
     },
     "execution_count": 476,
     "metadata": {},
     "output_type": "execute_result"
    }
   ],
   "source": [
    "# Test\n",
    "# UP = 0\n",
    "# RIGHT = 1\n",
    "# DOWN = 2\n",
    "# LEFT = 3\n",
    "get_action(policy_optimal, 1)  # You will always go left from state 1"
   ]
  },
  {
   "cell_type": "code",
   "execution_count": null,
   "id": "1e108685",
   "metadata": {},
   "outputs": [
    {
     "name": "stdout",
     "output_type": "stream",
     "text": [
      "T  o  o  o\n",
      "o  o  o  o\n",
      "x  o  o  o\n",
      "o  o  o  T\n",
      "\n",
      "Step  1: action= 0, Reward=-1.00, Terminated=False, Truncated=False, info={}\n",
      "T  o  o  o\n",
      "x  o  o  o\n",
      "o  o  o  o\n",
      "o  o  o  T\n",
      "\n",
      "Step  2: action= 0, Reward=-1.00, Terminated=False, Truncated=False, info={}\n",
      "x  o  o  o\n",
      "o  o  o  o\n",
      "o  o  o  o\n",
      "o  o  o  T\n",
      "\n",
      "Step  3: action= 0, Reward=-1.00, Terminated=True, Truncated=False, info={}\n",
      "Episode finished after 3 steps with total reward: -3.00\n"
     ]
    }
   ],
   "source": [
    "total_reward = 0.0\n",
    "total_steps = 0\n",
    "curState, _ = env.reset()\n",
    "\n",
    "done = False\n",
    "while not done:\n",
    "    action = get_action(policy_optimal, curState)\n",
    "    curState, reward, terminated, truncated, info = env.step(action)\n",
    "    total_reward += reward\n",
    "    total_steps += 1\n",
    "    done = terminated or truncated\n",
    "    env.render()\n",
    "    print(\n",
    "        f\"Step {total_steps:2d}: action={action:2d}, Reward={reward:5.2f}, \"\n",
    "        f\"Terminated={terminated}, Truncated={truncated}, info={info}\"\n",
    "    )\n",
    "\n",
    "print(\n",
    "    f\"Episode finished after {total_steps} steps with total reward: {total_reward:.2f}\"\n",
    ")\n",
    "\n",
    "env.close()"
   ]
  }
 ],
 "metadata": {
  "kernelspec": {
   "display_name": "rl-training-2025-codes",
   "language": "python",
   "name": "python3"
  },
  "language_info": {
   "codemirror_mode": {
    "name": "ipython",
    "version": 3
   },
   "file_extension": ".py",
   "mimetype": "text/x-python",
   "name": "python",
   "nbconvert_exporter": "python",
   "pygments_lexer": "ipython3",
   "version": "3.12.10"
  }
 },
 "nbformat": 4,
 "nbformat_minor": 5
}
