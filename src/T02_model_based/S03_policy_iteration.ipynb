{
 "cells": [
  {
   "cell_type": "markdown",
   "id": "58921e7f",
   "metadata": {},
   "source": [
    "# Policy Iteration\n",
    "\n",
    "- Policy Evaluation\n",
    "- Policy Improvement"
   ]
  },
  {
   "cell_type": "code",
   "execution_count": null,
   "id": "26e6fa9d",
   "metadata": {},
   "outputs": [],
   "source": [
    "from gridworld import GridworldEnv\n",
    "import numpy as np\n",
    "import seaborn as sns\n",
    "import matplotlib.pyplot as plt"
   ]
  },
  {
   "cell_type": "markdown",
   "id": "b37f6e68",
   "metadata": {},
   "source": [
    "# Policy Evaluation"
   ]
  },
  {
   "cell_type": "code",
   "execution_count": null,
   "id": "ece18d5a",
   "metadata": {},
   "outputs": [],
   "source": [
    "# Policy evaluation\n",
    "def policy_evaluation(policy, env, discount_factor=1.0, theta=0.00001):\n",
    "    \"\"\"\n",
    "    Evaluate a policy given an environment.\n",
    "\n",
    "    Args:\n",
    "        policy:[S, A]shaped matrix representing the policy. Random in our case\n",
    "        env: OpenAI env. env.P -> transition dynamics of the environment.\n",
    "            env.P[s][a] [(prob, next_state, reward, done)].\n",
    "            env.nS is number of states in the environment.\n",
    "            env.nA is number of actions in the environment.\n",
    "        theta: Stop iteration once value function change is\n",
    "            less than theta for all states.\n",
    "        discount_factor: Gamma discount factor.\n",
    "\n",
    "    Returns:\n",
    "        Vector of length env.nS representing the value function.\n",
    "    \"\"\"\n",
    "    print(\"Running policy evaluation...\")\n",
    "    # Start with a (all 0) value function\n",
    "    V = np.zeros(env.nS)\n",
    "    V_new = np.copy(V)\n",
    "    while True:\n",
    "        delta = 0\n",
    "        # For each state, perform a \"backup\"\n",
    "        for s in range(env.nS):\n",
    "            v = 0\n",
    "            # Look at the possible next actions\n",
    "            for a, pi_a in enumerate(policy[s]):\n",
    "                # For each action, look at the possible next states...\n",
    "                for prob, next_state, reward, done in env.P[s][a]:\n",
    "                    # Calculate the expected value as per backup diagram\n",
    "                    v += pi_a * prob * (reward + discount_factor * V[next_state])\n",
    "            # How much our value function changed (across any states)\n",
    "            V_new[s] = v\n",
    "            delta = max(delta, np.abs(V_new[s] - V[s]))\n",
    "        V = np.copy(V_new)\n",
    "        # Stop if change is below a threshold\n",
    "        if delta < theta:\n",
    "            break\n",
    "    return np.array(V)"
   ]
  },
  {
   "cell_type": "code",
   "execution_count": null,
   "id": "c57f0f93",
   "metadata": {},
   "outputs": [],
   "source": [
    "# Custom print to show state values inside the grid\n",
    "def grid_print(V, k=None):\n",
    "    ax = sns.heatmap(\n",
    "        V.reshape(env.shape),\n",
    "        annot=True,\n",
    "        square=True,\n",
    "        cbar=False,\n",
    "        cmap=\"Blues\",\n",
    "        xticklabels=False,\n",
    "        yticklabels=False,\n",
    "    )\n",
    "\n",
    "    if k:\n",
    "        ax.set(title=\"K = {0}\".format(k))\n",
    "    plt.show()"
   ]
  },
  {
   "cell_type": "code",
   "execution_count": null,
   "id": "2fe4d046",
   "metadata": {},
   "outputs": [],
   "source": [
    "env = GridworldEnv()\n",
    "env.reset()"
   ]
  },
  {
   "cell_type": "code",
   "execution_count": null,
   "id": "45c3cce8",
   "metadata": {},
   "outputs": [],
   "source": [
    "# Create a random policy\n",
    "random_policy = np.ones([env.nS, env.nA]) / env.nA\n",
    "print(random_policy)"
   ]
  },
  {
   "cell_type": "code",
   "execution_count": null,
   "id": "ba11446a",
   "metadata": {},
   "outputs": [],
   "source": [
    "# run policy iteration for random policy\n",
    "V_pi = policy_evaluation(random_policy, env, discount_factor=1.0, theta=0.00001)\n",
    "\n",
    "# Print policy\n",
    "grid_print(V_pi.reshape(env.shape))"
   ]
  },
  {
   "cell_type": "markdown",
   "id": "1eeedb73",
   "metadata": {},
   "source": [
    "# Policy Improvement"
   ]
  },
  {
   "cell_type": "code",
   "execution_count": null,
   "id": "f5b895b0",
   "metadata": {},
   "outputs": [],
   "source": [
    "# Policy Improvement\n",
    "def policy_improvement(policy, V, env, discount_factor=1.0):\n",
    "    \"\"\"\n",
    "    Improve a policy given an environment and a full description\n",
    "    of the environment's dynamics and the state-values V.\n",
    "\n",
    "    Args:\n",
    "        policy: [S, A] shaped matrix representing the policy.\n",
    "        V: current state-value for the given policy\n",
    "        env: OpenAI env. env.P -> transition dynamics of the environment.\n",
    "            env.P[s][a] [(prob, next_state, reward, done)].\n",
    "            env.nS is number of states in the environment.\n",
    "            env.nA is number of actions in the environment.\n",
    "        discount_factor: Gamma discount factor.\n",
    "\n",
    "    Returns:\n",
    "        policy: [S, A] shaped matrix representing improved policy.\n",
    "        policy_changed: boolean which has value of `True` if there\n",
    "                        was a change in policy\n",
    "    \"\"\"\n",
    "\n",
    "    def argmax_a(arr):\n",
    "        \"\"\"\n",
    "        Return idxs of all max values in an array.\n",
    "        \"\"\"\n",
    "        max_idx = []\n",
    "        max_val = float(\"-inf\")\n",
    "        for idx, elem in enumerate(arr):\n",
    "            if elem == max_val:\n",
    "                max_idx.append(idx)\n",
    "            elif elem > max_val:\n",
    "                max_idx = [idx]\n",
    "                max_val = elem\n",
    "        return max_idx\n",
    "\n",
    "    print(\"Running policy improvement...\")\n",
    "    policy_changed = False\n",
    "    Q = np.zeros([env.nS, env.nA])\n",
    "    new_policy = np.zeros([env.nS, env.nA])\n",
    "\n",
    "    # For each state, perform a \"greedy improvement\"\n",
    "    for s in range(env.nS):\n",
    "        old_action = np.array(policy[s])\n",
    "        for a in range(env.nA):\n",
    "            for prob, next_state, reward, done in env.P[s][a]:\n",
    "                # Calculate the expected value as per backup diagram\n",
    "                Q[s, a] += prob * (reward + discount_factor * V[next_state])\n",
    "\n",
    "        # get maximizing actions and set new policy for state s\n",
    "        best_actions = argmax_a(Q[s])\n",
    "        new_policy[s, best_actions] = 1.0 / len(best_actions)\n",
    "\n",
    "    if not np.allclose(new_policy[s], policy[s]):\n",
    "        policy_changed = True\n",
    "\n",
    "    return new_policy, policy_changed"
   ]
  },
  {
   "cell_type": "code",
   "execution_count": null,
   "id": "049db03c",
   "metadata": {},
   "outputs": [],
   "source": [
    "new_policy, changed = policy_improvement(random_policy, V_pi, env, discount_factor=1.0)"
   ]
  },
  {
   "cell_type": "code",
   "execution_count": null,
   "id": "bb32c1a1",
   "metadata": {},
   "outputs": [],
   "source": [
    "new_policy"
   ]
  },
  {
   "cell_type": "code",
   "execution_count": null,
   "id": "42f78d04",
   "metadata": {},
   "outputs": [],
   "source": [
    "# Evaluate the new policy\n",
    "V_pi = policy_evaluation(new_policy, env, discount_factor=1.0, theta=0.00001)\n",
    "\n",
    "# Print value\n",
    "grid_print(V_pi.reshape(env.shape))"
   ]
  },
  {
   "cell_type": "markdown",
   "id": "4912a849",
   "metadata": {},
   "source": [
    "# Policy Iteration"
   ]
  },
  {
   "cell_type": "code",
   "execution_count": null,
   "id": "349c3e37",
   "metadata": {},
   "outputs": [],
   "source": [
    "def policy_iteration(env, discount_factor=1.0, theta=0.00001):\n",
    "\n",
    "    # initialize a random policy\n",
    "    policy = np.ones([env.nS, env.nA]) / env.nA\n",
    "    while True:\n",
    "        V = policy_evaluation(policy, env, discount_factor, theta)\n",
    "        policy, changed = policy_improvement(policy, V, env, discount_factor)\n",
    "        if not changed:  # terminate iteration once no improvement is observed\n",
    "            V_optimal = policy_evaluation(policy, env, discount_factor, theta)\n",
    "            print(\"Optimal Policy\\n\", policy)\n",
    "            return np.array(V_optimal), policy"
   ]
  },
  {
   "cell_type": "code",
   "execution_count": null,
   "id": "59c82ad6",
   "metadata": {},
   "outputs": [],
   "source": [
    "# Run policy iteration on Grid world\n",
    "V_star, pi_star = policy_iteration(env)\n",
    "\n",
    "# Print optimal policy state values\n",
    "grid_print(V_star.reshape(env.shape))"
   ]
  },
  {
   "cell_type": "code",
   "execution_count": null,
   "id": "5feb5ae1",
   "metadata": {},
   "outputs": [],
   "source": [
    "import pickle\n",
    "with open('S03_pi_star.pkl', 'wb') as file:\n",
    "    pickle.dump(dict(policy=pi_star), file)"
   ]
  }
 ],
 "metadata": {
  "kernelspec": {
   "display_name": "rl-training-2025-codes",
   "language": "python",
   "name": "python3"
  },
  "language_info": {
   "codemirror_mode": {
    "name": "ipython",
    "version": 3
   },
   "file_extension": ".py",
   "mimetype": "text/x-python",
   "name": "python",
   "nbconvert_exporter": "python",
   "pygments_lexer": "ipython3",
   "version": "3.12.10"
  }
 },
 "nbformat": 4,
 "nbformat_minor": 5
}
