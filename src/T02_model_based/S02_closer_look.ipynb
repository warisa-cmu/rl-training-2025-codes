{
 "cells": [
  {
   "cell_type": "code",
   "execution_count": null,
   "id": "26e6fa9d",
   "metadata": {},
   "outputs": [],
   "source": [
    "from gridworld import GridworldEnv\n",
    "import seaborn as sns\n",
    "import numpy as np\n",
    "import matplotlib.pyplot as plt"
   ]
  },
  {
   "cell_type": "code",
   "execution_count": null,
   "id": "92149e08",
   "metadata": {},
   "outputs": [],
   "source": [
    "env = GridworldEnv() \n",
    "env.reset()"
   ]
  },
  {
   "cell_type": "code",
   "execution_count": null,
   "id": "553b51a3",
   "metadata": {},
   "outputs": [],
   "source": [
    "# Get the total number of states in the environment's state space\n",
    "state_space = env.nS\n",
    "print(state_space)\n",
    "\n",
    "# Create a 2D numpy array initialized to zeros to represent the grid\n",
    "nx = np.sqrt(env.nS).astype(int)\n",
    "shape = (nx, nx)\n",
    "gw = np.zeros(shape)\n",
    "\n",
    "# Fill the grid such that each cell contains its corresponding state index\n",
    "for s in range(state_space):\n",
    "    position = np.unravel_index(s, shape)\n",
    "    gw[position] = s\n",
    "\n",
    "plt.figure(figsize=(3, 3))\n",
    "ax = sns.heatmap(\n",
    "    gw,\n",
    "    cmap=\"Reds\",\n",
    "    annot=True,\n",
    "    fmt=\".0f\",\n",
    "    cbar=False,\n",
    "    xticklabels=False,\n",
    "    yticklabels=False,\n",
    ")\n",
    "ax.set_title(\"Grid\")\n",
    "plt.show()"
   ]
  },
  {
   "cell_type": "code",
   "execution_count": null,
   "id": "e19af426",
   "metadata": {},
   "outputs": [],
   "source": [
    "# Retrieve the number of possible actions (the action space size) in the environment\n",
    "action = env.nA\n",
    "print(action)\n",
    "\n",
    "# Randomly sample a valid action from the environment's action space\n",
    "action = env.action_space.sample()\n",
    "print(action)"
   ]
  },
  {
   "cell_type": "code",
   "execution_count": null,
   "id": "6344c662",
   "metadata": {},
   "outputs": [],
   "source": [
    "# Retrieve the transition probability dictionary from the environment.\n",
    "# P[state][action] = [(probability, next_state, reward, done)]\n",
    "P = env.P\n",
    "\n",
    "# Set the initial state to 2 (which corresponds to grid position (0, 2) in a 4x4 grid)\n",
    "init_state = 2\n",
    "\n",
    "# Define the action to take: 2 corresponds to DOWN (as defined by the constants)\n",
    "action = 2  # DOWN\n",
    "\n",
    "# Print the transition for the given state and action.\n",
    "# From state 2 (i.e., position (0,2)), taking action DOWN moves to state 6 (i.e., position (1,2)).\n",
    "# Since the step is deterministic, the output is:\n",
    "# [(1.0, 6, -1, False)] meaning:\n",
    "# - Probability of transition = 1.0\n",
    "# - Next state = 6\n",
    "# - Reward = -1\n",
    "# - done = False (state 6 is not a terminal state)\n",
    "print(P[init_state][action])\n"
   ]
  },
  {
   "cell_type": "code",
   "execution_count": null,
   "id": "ba4aba1c",
   "metadata": {},
   "outputs": [],
   "source": [
    "# Visualize transition probability\n",
    "# Change action here\n",
    "action = \"DOWN\"\n",
    "\n",
    "######################################################\n",
    "nS = env.observation_space.n  # Number of states\n",
    "nA = env.action_space.n  # Number of actions\n",
    "\n",
    "# Initialize a 3D transition matrix\n",
    "transition_matrix_3d = np.zeros((nS, nS, nA))\n",
    "\n",
    "for s in range(nS):\n",
    "    for a in range(nA):\n",
    "        for prob, next_state, reward, done in env.P[s][a]:\n",
    "            transition_matrix_3d[s, next_state, a] += prob\n",
    "\n",
    "actions = dict(UP=0, RIGHT=1, DOWN=2, LEFT=3)\n",
    "UP = 0\n",
    "RIGHT = 1\n",
    "DOWN = 2\n",
    "LEFT = 3\n",
    "\n",
    "action_idx = actions[action]\n",
    "plt.figure(figsize=(10, 8))\n",
    "sns.heatmap(\n",
    "    transition_matrix_3d[:, :, action_idx],\n",
    "    cmap=\"Blues\",\n",
    "    annot=True,\n",
    "    fmt=\".2f\",\n",
    "    cbar_kws={\"label\": f\"Transition Probability (Action {action})\"},\n",
    ")\n",
    "plt.title(f\"Transition Probability Heatmap for Action {action}\")\n",
    "plt.xlabel(\"Next State\")\n",
    "plt.ylabel(\"Current State\")\n",
    "plt.show()\n"
   ]
  }
 ],
 "metadata": {
  "kernelspec": {
   "display_name": "rl-training-2025-codes",
   "language": "python",
   "name": "python3"
  },
  "language_info": {
   "codemirror_mode": {
    "name": "ipython",
    "version": 3
   },
   "file_extension": ".py",
   "mimetype": "text/x-python",
   "name": "python",
   "nbconvert_exporter": "python",
   "pygments_lexer": "ipython3",
   "version": "3.12.9"
  }
 },
 "nbformat": 4,
 "nbformat_minor": 5
}
